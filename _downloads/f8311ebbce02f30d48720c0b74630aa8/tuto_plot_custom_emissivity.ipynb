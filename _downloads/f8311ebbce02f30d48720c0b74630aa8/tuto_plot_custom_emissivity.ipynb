{
  "cells": [
    {
      "cell_type": "code",
      "execution_count": null,
      "metadata": {
        "collapsed": false
      },
      "outputs": [],
      "source": [
        "%matplotlib inline"
      ]
    },
    {
      "cell_type": "markdown",
      "metadata": {},
      "source": [
        "\n# Computing a camera image with custom emissivity\n\nThis tutorial defines an emissivity that varies in space and computes the\nsignal received by a camera using this emissivity.\n"
      ]
    },
    {
      "cell_type": "markdown",
      "metadata": {},
      "source": [
        "We start by loading a built-in `tofu` configuration and define a 2D camera.\n\n"
      ]
    },
    {
      "cell_type": "code",
      "execution_count": null,
      "metadata": {
        "collapsed": false
      },
      "outputs": [],
      "source": [
        "import matplotlib.pyplot as plt\nimport numpy as np\nimport tofu as tf\n\nconfigB2 = tf.load_config(\"B2\")\n\ncam2d = tf.geom.utils.create_CamLOS2D(\n    config=configB2,\n    pinhole=[3.4, 0, 0],\n    sensor_nb=100,\n    focal=0.1,\n    sensor_size=0.1,\n    orientation=[np.pi, np.pi/6, 0],\n    Name=\"\",\n    Exp=\"\",\n    Diag=\"\",\n)"
      ]
    },
    {
      "cell_type": "markdown",
      "metadata": {},
      "source": [
        "Now, we define an emissivity function that depends on r and z coordinates.\nWe can plot its profile in the (0, X, Z) plane.\n\n"
      ]
    },
    {
      "cell_type": "code",
      "execution_count": null,
      "metadata": {
        "collapsed": false
      },
      "outputs": [],
      "source": [
        "def emissivity(pts, t=None, vect=None):\n    \"\"\"Custom emissivity as a function of geometry.\n\n    :param pts: ndarray of shape (3, npts) (each column is a xyz coordinate)\n    :param t: optional, time parameter to add a time dependency to the\n        emissivity function\n    :param vect: optional, ndarray of shape (3, npts), if anisotropic\n        emissivity, unit direction vectors (X,Y,Z)\n    :return:\n        - emissivity -- 2D array holding the emissivity for each point in the\n            input grid\n    \"\"\"\n    r, z = np.hypot(pts[0, :], pts[1, :]), pts[2, :]\n    e = np.exp(-(r - 2.4) ** 2 / 0.2 ** 2 - z ** 2 / 0.4 ** 2)\n    if t is not None:\n        e = np.cos(np.atleast_1d(t))[:, None] * e[None, :]\n    else:\n        # as stated in documentation of calc_signal, e.ndim must be 2\n        e = np.reshape(e, (1, -1))\n    return e\n\n\ny = np.linspace(2, 3, num=90)\nz = np.linspace(-0.5, 0.5, num=100)\nY, Z = np.meshgrid(y, z)\nX = np.zeros_like(Y)\npts = np.c_[X.ravel(), Y.ravel(), Z.ravel()].T\nemissivity_vals = emissivity(pts)\nemissivity_vals = emissivity_vals.reshape(X.shape)\n\n\ndef project_to_2D(xyz):\n    \"\"\"Projection to (0, X, Z) plane.\"\"\"\n    return xyz[0], xyz[2]\n\n\nfig, ax = plt.subplots()\nax.pcolormesh(Y, Z, emissivity_vals)\nax.set_xlabel('y')\nax.set_ylabel('z')\nconfigB2.plot(lax=ax, proj='cross')\ncam_center, = ax.plot(*project_to_2D(cam2d._dgeom['pinhole']), '*', ms=20)\nax.set_aspect(\"equal\")\nax.legend(handles=[cam_center], labels=['camera pinhole'], loc='upper right')"
      ]
    },
    {
      "cell_type": "markdown",
      "metadata": {},
      "source": [
        "Finally, we compute an image using the 2D camera and this emissivity.\nIf we provide a time vector, the field will vary in a cosinusoidal fashion\n(see above definition) across time.\n\n"
      ]
    },
    {
      "cell_type": "code",
      "execution_count": null,
      "metadata": {
        "collapsed": false
      },
      "outputs": [],
      "source": [
        "time_vector = np.linspace(0, 2 * np.pi, num=100)\n\nsig, units = cam2d.calc_signal(emissivity,\n                               res=0.01,\n                               reflections=False,\n                               minimize=\"hybrid\",\n                               method=\"sum\",\n                               newcalc=True,\n                               plot=False,\n                               ani=False,\n                               t=time_vector)\n\nsig.plot(ntMax=1)\nplt.show(block=False)"
      ]
    }
  ],
  "metadata": {
    "kernelspec": {
      "display_name": "Python 3",
      "language": "python",
      "name": "python3"
    },
    "language_info": {
      "codemirror_mode": {
        "name": "ipython",
        "version": 3
      },
      "file_extension": ".py",
      "mimetype": "text/x-python",
      "name": "python",
      "nbconvert_exporter": "python",
      "pygments_lexer": "ipython3",
      "version": "3.7.11"
    }
  },
  "nbformat": 4,
  "nbformat_minor": 0
}