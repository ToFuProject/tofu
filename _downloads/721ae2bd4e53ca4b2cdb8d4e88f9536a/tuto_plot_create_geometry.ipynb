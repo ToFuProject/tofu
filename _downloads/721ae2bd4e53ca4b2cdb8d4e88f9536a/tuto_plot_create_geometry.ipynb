{
  "cells": [
    {
      "cell_type": "code",
      "execution_count": null,
      "metadata": {
        "collapsed": false
      },
      "outputs": [],
      "source": [
        "%matplotlib inline"
      ]
    },
    {
      "cell_type": "markdown",
      "metadata": {},
      "source": [
        "\n# Creating your first Geometry\n\nThis is a tutorial that shows you how to create a simple geometry.\n"
      ]
    },
    {
      "cell_type": "code",
      "execution_count": null,
      "metadata": {
        "collapsed": false
      },
      "outputs": [],
      "source": [
        "import numpy as np\nimport matplotlib.pyplot as plt\nimport tofu.geom as tfg"
      ]
    },
    {
      "cell_type": "markdown",
      "metadata": {},
      "source": [
        "## Creating an empty Vessel\n\nIf a vessel object does not exist yet, you have to create one (otherwise you\ncan just load an existing one).\nA vessel object is basically defined by a 2D simple polygon\n(i.e.: non self-intersecting), that is then expanded linearly or toroidally\ndepending on the desired configuration.\nThis polygon limits the volume available for the plasma, where the emissivity\ncan be non-zero. It is typically defined by the inner wall in a tokamak.\n\nLet's define the polygon limiting the vessel as a circle with a divertor-like\nshape at the bottom:\n\n"
      ]
    },
    {
      "cell_type": "code",
      "execution_count": null,
      "metadata": {
        "collapsed": false
      },
      "outputs": [],
      "source": [
        "# Define the center, radius and lower limit\nR0, Z0, rad, ZL = 2.0, 0.0, 1.0, -0.85\n# Define the key points in the divertor region below ZL\nDiv_R, Div_Z = [R0 - 0.2, R0, R0 + 0.2], [-1.2, -0.9, -1.2]\n# Find the angles corresponding to ZL and span the rest\nthet1 = np.arcsin((ZL - Z0) / rad)\nthet2 = np.pi - thet1\nthet = np.linspace(thet1, thet2, 100)\n# Assemble the polygon\npoly_R = np.append(R0 + rad * np.cos(thet), Div_R)\npoly_Z = np.append(Z0 + rad * np.sin(thet), Div_Z)\n# Plot for checking\nplt.figure(facecolor=\"w\", figsize=(6, 6))\nplt.plot(poly_R, poly_Z)\nplt.axis(\"equal\")"
      ]
    },
    {
      "cell_type": "markdown",
      "metadata": {},
      "source": [
        "Notice that the polygon does not have to be closed, ToFu will anyway check\nthat and close it automatically if necessary.\nNow let's feed this 2D polygon to the appropriate ToFu class and specify that\nit should be a toroidal type (if linear type 'Lin' is chosen, the length\nshould be specified by the 'Lim' keyword argument).\n**tofu** also asks for a name to be associated to this instance, and an\nexperiment ('Exp') and a shot number (useful when the same experiment changes\ngeometry in time).\n\n"
      ]
    },
    {
      "cell_type": "code",
      "execution_count": null,
      "metadata": {
        "collapsed": false
      },
      "outputs": [],
      "source": [
        "# Create a toroidal Ves instance with name 'MyFirstVessel', associated to\n# the experiment 'Misc' (for 'Miscellaneous') and shot number 0\nves = tfg.Ves(\n    Name=\"MyFirstVessel\",\n    Poly=[poly_R, poly_Z],\n    Type=\"Tor\",\n    Exp=\"Misc\",\n    shot=0\n)"
      ]
    },
    {
      "cell_type": "markdown",
      "metadata": {},
      "source": [
        "Now the vessel instance is created. It provides you several key attributes\nand methods (see :class:`~tofu.geom` for details).\nAmong them the Id attribute is itself a class instance that contains all\nuseful information about this vessel instance for identification, saving...\nIn particular, that's where the name, the default saving path, the Type, the\nexperiment, the shot number... are all stored.\nA default name for saving was also created that automatically includes not\nonly the name you gave but also the module from which this instance was\ncreated (tofu.geom or tfg), the type of object, the experiment, the shot\nnumber...\nThis recommended default pattern is useful for quick identification of saved\nobject, it is advised not to modify it.\n\n"
      ]
    },
    {
      "cell_type": "code",
      "execution_count": null,
      "metadata": {
        "collapsed": false
      },
      "outputs": [],
      "source": [
        "print(ves.Id.SaveName)"
      ]
    },
    {
      "cell_type": "markdown",
      "metadata": {},
      "source": [
        "Now, we can simply visualise the created vessel by using the dedicated method\n(keyword argument 'Elt' specifies the elements of the instance we want to\nplot, typically one letter corresponds to one element, here we just want the\npolygon):\n\n"
      ]
    },
    {
      "cell_type": "code",
      "execution_count": null,
      "metadata": {
        "collapsed": false
      },
      "outputs": [],
      "source": [
        "# Plot the polygon by default in two projections (cross-section and horizontal)\n# and return the list of axes\nlax = ves.plot(element=\"P\")"
      ]
    },
    {
      "cell_type": "markdown",
      "metadata": {},
      "source": [
        "The created vessel instance, plotted in cross-section and horizontal\nprojections\nSince the vessel is an important object (it defines where the plasma lives),\nall the other ToFu objects rely on it. It is thus important that you save\nit so that it can be used by other ToFu objects when necessary.\n\n"
      ]
    },
    {
      "cell_type": "code",
      "execution_count": null,
      "metadata": {
        "collapsed": false
      },
      "outputs": [],
      "source": [
        "ves.save(path=\"./\")"
      ]
    },
    {
      "cell_type": "markdown",
      "metadata": {},
      "source": [
        "This method will save the instance as a numpy compressed file (.npz), using\nthe path and file name found in ves.Id.SavePath and ves.Id.SaveName. While\nit is highly recommended to stick to the default value for the SaveName,\nbut you can easily modify the saving path if you want by specifying it using\nkeyword argument Path.\n\n"
      ]
    },
    {
      "cell_type": "markdown",
      "metadata": {},
      "source": [
        "## Adding structural elements\n\nLike for a vessel, a structural element is mostly defined by a 2D polygon.\nIf a vessel instance is provided, the type of the structural element\n(toroidal or linear) is automatically the same as the type of the vessel,\notherwise the type must be specified.\n\n"
      ]
    },
    {
      "cell_type": "code",
      "execution_count": null,
      "metadata": {
        "collapsed": false
      },
      "outputs": [],
      "source": [
        "# A configuration, short for geometrical configuration is a set of vessel,\n# and structural elements.\n\n# Define two polygons, one that does not enclose the vessel and one that does\nthet = np.linspace(0.0, 2.0 * np.pi, 100)\npoly1 = [[2.5, 3.5, 3.5, 2.5], [0.0, 0.0, 0.5, 0.5]]  # a rectangle\npoly2 = [R0 + 0.5 * np.cos(thet), -1.0 + 0.5 * np.sin(thet)]  # a circle\npoly3 = [[0.8, 1.3, 1.3, 0.8], [-0.5, -0.5, 0.5, 0.5]]  # another rectangle\n# Create the structural elements with the appropriate ToFu class, specifying\n# the experiment and a shot number for keeping track of changes\ns1 = tfg.PFC(Name=\"S1\",\n             Poly=poly1,\n             Exp=\"Misc\",\n             shot=0)\n# now we create a structure that is not continuous along phi\n# but is only defined within certain limits\ns2 = tfg.PFC(\n    Name=\"S2\",\n    Poly=poly2,\n    Exp=\"Misc\",\n    shot=0,\n    Lim=[[0.0, np.pi], [np.pi / 2.0, np.pi * 3.0 / 2.0]],\n)\n# and another one, now defined as repetitions centered a position `pos`\n# and with a certain `extent`\n# here we wanted a structure uniformly repeated 5 times along phi\ns3 = tfg.PFC(\n    Name=\"S3\",\n    Poly=poly3,\n    # we dont take the last element of the list as it is 2.*pi = 0\n    pos=np.linspace(0.0, 2.0 * np.pi, 6)[:-1],\n    # 5 repetitions + 5 empty spaces = 10 subdivision of 2. pi\n    extent=np.pi * 2.0 / 10.0,\n    Exp=\"Misc\",\n    shot=0,\n)\n# Creating a configuration with vessel and structures\nconfig = tfg.Config(Name=\"test\",\n                    Exp=\"Misc\",\n                    lStruct=[ves, s1, s2, s3])\nconfig.set_colors_random()  # to see different colors\nconfig.plot()\nconfig.save()\n# sphinx_gallery_thumbnail_number = 3"
      ]
    }
  ],
  "metadata": {
    "kernelspec": {
      "display_name": "Python 3",
      "language": "python",
      "name": "python3"
    },
    "language_info": {
      "codemirror_mode": {
        "name": "ipython",
        "version": 3
      },
      "file_extension": ".py",
      "mimetype": "text/x-python",
      "name": "python",
      "nbconvert_exporter": "python",
      "pygments_lexer": "ipython3",
      "version": "3.7.11"
    }
  },
  "nbformat": 4,
  "nbformat_minor": 0
}