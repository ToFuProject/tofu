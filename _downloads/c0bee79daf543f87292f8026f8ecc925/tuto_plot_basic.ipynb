{
  "cells": [
    {
      "cell_type": "code",
      "execution_count": null,
      "metadata": {
        "collapsed": false
      },
      "outputs": [],
      "source": [
        "%matplotlib inline"
      ]
    },
    {
      "cell_type": "markdown",
      "metadata": {},
      "source": [
        "\nGetting started: 5 minutes tutorial for `tofu`\n^^^^^^^^^^^^^^^^^^^^^^^^^^^^^^^^^^^^^^^^^^^^^^\n\nThis is a tutorial that aims to get a new user a little familiar with tofu's\nstructure.\n"
      ]
    },
    {
      "cell_type": "code",
      "execution_count": null,
      "metadata": {
        "collapsed": false
      },
      "outputs": [],
      "source": [
        "# The following imports matplotlib, preferably using a\n# backend that allows the plots to be interactive (Qt5Agg).\nimport numpy as np"
      ]
    },
    {
      "cell_type": "markdown",
      "metadata": {},
      "source": [
        "We start by loading `tofu`. You might see some warnings at this stage since\noptional modules for `tofu` could\nbe missing on the machine you are working on. This can be ignored safely.\n\n"
      ]
    },
    {
      "cell_type": "code",
      "execution_count": null,
      "metadata": {
        "collapsed": false
      },
      "outputs": [],
      "source": [
        "import tofu as tf"
      ]
    },
    {
      "cell_type": "markdown",
      "metadata": {},
      "source": [
        "We can now create our first configuration.\nIn `tofu` speak, a configuration is the geometry of the device and its\nstructures. `tofu` provides pre-defined ones for your to try, so we're going\nto do just that:\n\n"
      ]
    },
    {
      "cell_type": "code",
      "execution_count": null,
      "metadata": {
        "collapsed": false
      },
      "outputs": [],
      "source": [
        "configB2 = tf.load_config(\"B2\")"
      ]
    },
    {
      "cell_type": "markdown",
      "metadata": {},
      "source": [
        "The configuration can easily be visualized using the `.plot()` method:\n\n"
      ]
    },
    {
      "cell_type": "code",
      "execution_count": null,
      "metadata": {
        "collapsed": false
      },
      "outputs": [],
      "source": [
        "configB2.plot()"
      ]
    },
    {
      "cell_type": "markdown",
      "metadata": {},
      "source": [
        "Since `tofu` is all about tomography, let's create a 1D camera and plot its\noutput.\n\n"
      ]
    },
    {
      "cell_type": "code",
      "execution_count": null,
      "metadata": {
        "collapsed": false
      },
      "outputs": [],
      "source": [
        "cam1d = tf.geom.utils.create_CamLOS1D(\n    config=configB2,\n    pinhole=[3.4, 0, 0],\n    sensor_nb=100,\n    focal=0.1,\n    sensor_size=0.1,\n    orientation=[np.pi, 0, 0],\n    Name=\"\",\n    Exp=\"\",\n    Diag=\"\",\n)\n\n# interactive plot\ncam1d.plot_touch()"
      ]
    },
    {
      "cell_type": "markdown",
      "metadata": {},
      "source": [
        "The principle is similar for 2D cameras.\n\n"
      ]
    },
    {
      "cell_type": "code",
      "execution_count": null,
      "metadata": {
        "collapsed": false
      },
      "outputs": [],
      "source": [
        "cam2d = tf.geom.utils.create_CamLOS2D(\n    config=configB2,\n    pinhole=[3.4, 0, 0],\n    sensor_nb=100,\n    focal=0.1,\n    sensor_size=0.1,\n    orientation=[np.pi, 0, 0],\n    Name=\"\",\n    Exp=\"\",\n    Diag=\"\",\n)\ncam2d.plot_touch()"
      ]
    },
    {
      "cell_type": "markdown",
      "metadata": {},
      "source": [
        "What comes next is up to you!\nYou could now play with the function parameters (change the cameras\ndirection, refinement, aperture),\nwith the plots (many are interactive) or create you own tomographic\nconfiguration.\n\n"
      ]
    }
  ],
  "metadata": {
    "kernelspec": {
      "display_name": "Python 3",
      "language": "python",
      "name": "python3"
    },
    "language_info": {
      "codemirror_mode": {
        "name": "ipython",
        "version": 3
      },
      "file_extension": ".py",
      "mimetype": "text/x-python",
      "name": "python",
      "nbconvert_exporter": "python",
      "pygments_lexer": "ipython3",
      "version": "3.7.3"
    }
  },
  "nbformat": 4,
  "nbformat_minor": 0
}