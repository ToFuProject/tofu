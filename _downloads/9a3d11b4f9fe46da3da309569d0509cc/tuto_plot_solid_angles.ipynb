{
  "cells": [
    {
      "cell_type": "code",
      "execution_count": null,
      "metadata": {
        "collapsed": false
      },
      "outputs": [],
      "source": [
        "%matplotlib inline"
      ]
    },
    {
      "cell_type": "markdown",
      "metadata": {},
      "source": [
        "\n# Computing the integrated solid angle of a particle\nThis tutorial show how to crete a configuration and computing the\nintegrated solid angle subtended by a particle's trajectory along phi\nwith certain discretization, and plotting it.\n\n$\\int_\\Phi \\Omega R d \\Phi$\n\nUseful for reconstructing emissivity.\n"
      ]
    },
    {
      "cell_type": "markdown",
      "metadata": {},
      "source": [
        "We start by loading ITER's configuration (built-in in `tofu`)\n\n"
      ]
    },
    {
      "cell_type": "code",
      "execution_count": null,
      "metadata": {
        "collapsed": false
      },
      "outputs": [],
      "source": [
        "import matplotlib.pyplot as plt\nimport numpy as np\nimport tofu as tf\n\n\nconfig = tf.load_config(\"ITER\")"
      ]
    },
    {
      "cell_type": "markdown",
      "metadata": {},
      "source": [
        "We define the particles properties and trajectory.\nLet's suppose we have the data for three points of the trajectory,\nthe particle moves along X from point (5, 0, 0) in cartesian coordinates,\nto (6, 0, 0) and finally to (7, 0, 0). At the end point the particle radius\nseems to be a bit bigger ($2 \\mu m$ instead of $1 \\mu m$)\n\n"
      ]
    },
    {
      "cell_type": "code",
      "execution_count": null,
      "metadata": {
        "collapsed": false
      },
      "outputs": [],
      "source": [
        "part_rad = np.r_[.0001, .0001, .0002]*2\n\npart_traj = np.array([[5.0, 0.0, 0.0],\n                      [6.0, 0.0, 0.0],\n                      [7.0, 0.0, 0.0]], order=\"F\").T"
      ]
    },
    {
      "cell_type": "markdown",
      "metadata": {},
      "source": [
        "Let's set some parameters for the discretization for computing the integral:\nresolutions in (R, Z, Phi) directions and the values to only compute the\nintegral on the core of the plasma.\n\n"
      ]
    },
    {
      "cell_type": "code",
      "execution_count": null,
      "metadata": {
        "collapsed": false
      },
      "outputs": [],
      "source": [
        "r_step = z_step = phi_step = 0.02  # 1 cm resolution along all directions\nRminmax = np.r_[4.0, 8.0]\nZminmax = np.r_[-5., 5.0]"
      ]
    },
    {
      "cell_type": "markdown",
      "metadata": {},
      "source": [
        "Let's compute the integrated solid angle: the function returns the points\nin (R,Z) of the discretization, the integrated solid angle on those points,\nthe indices to reconstruct the discretization in all domain and a the volume\nunit $dR * dZ$.\n\n"
      ]
    },
    {
      "cell_type": "code",
      "execution_count": null,
      "metadata": {
        "collapsed": false
      },
      "outputs": [],
      "source": [
        "pts, sa_map, ind, vol = tf.geom._GG.compute_solid_angle_map(part_traj,\n                                                            part_rad,\n                                                            r_step,\n                                                            z_step,\n                                                            phi_step,\n                                                            Rminmax,\n                                                            Zminmax)"
      ]
    },
    {
      "cell_type": "markdown",
      "metadata": {},
      "source": [
        "Now we can plot the results the first point on the trajectory\n\n"
      ]
    },
    {
      "cell_type": "code",
      "execution_count": null,
      "metadata": {
        "collapsed": false
      },
      "outputs": [],
      "source": [
        "fig1, ax = plt.subplots()\n\nax.scatter(pts[0, :], pts[1, :],    # R and Z coordinates\n           marker=\"s\",              # each point is a squared pixel\n           edgecolors=None,         # no boundary for smooth plot\n           s=10,                    # size of pixel\n           c=sa_map[:, 0].flatten(),  # pixel color is value of int solid angle\n           )\nax.set_aspect(\"equal\")\nplt.show()"
      ]
    },
    {
      "cell_type": "markdown",
      "metadata": {},
      "source": [
        "or the three points in the trajectory\n\n"
      ]
    },
    {
      "cell_type": "code",
      "execution_count": null,
      "metadata": {
        "collapsed": false
      },
      "outputs": [],
      "source": [
        "fig2, list_axes = plt.subplots(ncols=3, sharey=True)\n\n# Now we can plot the results for all points on the trajectory\nfor (ind, ax) in enumerate(list_axes):\n    ax.scatter(pts[0, :], pts[1, :],\n               marker=\"s\",\n               edgecolors=None,\n               s=10,\n               c=sa_map[:, ind].flatten(),  # we change particle number\n               )\n    ax.set_aspect(\"equal\")\n\n\nplt.show()"
      ]
    },
    {
      "cell_type": "markdown",
      "metadata": {},
      "source": [
        "Now let's see the 1D profile of all particles for z = 0.\n\n"
      ]
    },
    {
      "cell_type": "code",
      "execution_count": null,
      "metadata": {
        "collapsed": false
      },
      "outputs": [],
      "source": [
        "izero = np.abs(pts[1, :]) < z_step\n\nfig3, list_axes = plt.subplots(ncols=3, sharey=False)\n\nfor (ind, ax) in enumerate(list_axes):\n    ax.plot(pts[0, izero], sa_map[izero, ind])\n\nplt.show()"
      ]
    }
  ],
  "metadata": {
    "kernelspec": {
      "display_name": "Python 3",
      "language": "python",
      "name": "python3"
    },
    "language_info": {
      "codemirror_mode": {
        "name": "ipython",
        "version": 3
      },
      "file_extension": ".py",
      "mimetype": "text/x-python",
      "name": "python",
      "nbconvert_exporter": "python",
      "pygments_lexer": "ipython3",
      "version": "3.7.11"
    }
  },
  "nbformat": 4,
  "nbformat_minor": 0
}