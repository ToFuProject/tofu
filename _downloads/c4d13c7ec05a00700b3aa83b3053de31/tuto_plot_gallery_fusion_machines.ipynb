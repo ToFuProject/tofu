{
  "cells": [
    {
      "cell_type": "code",
      "execution_count": null,
      "metadata": {
        "collapsed": false
      },
      "outputs": [],
      "source": [
        "%matplotlib inline"
      ]
    },
    {
      "cell_type": "markdown",
      "metadata": {},
      "source": [
        "\n# A gallery of Fusion Machines\n\nThis tutorial functions as a gallery of fusion machines that can easily be\nloaded with `tofu`.\n"
      ]
    },
    {
      "cell_type": "markdown",
      "metadata": {},
      "source": [
        "We start by importing `tofu`.\n\n"
      ]
    },
    {
      "cell_type": "code",
      "execution_count": null,
      "metadata": {
        "collapsed": false
      },
      "outputs": [],
      "source": [
        "import tofu as tf"
      ]
    },
    {
      "cell_type": "markdown",
      "metadata": {},
      "source": [
        "`tofu` provides a geometry helper function that allows creating a\nconfiguration with a single call.\n\nSome configurations are pre-defined, for example ITER's configuration.\n\nBy printing the `config` object created, a text representation of its\ncomponents is printed. This allows inspecting the component names, number\nof sections, color or visibility.\n\n"
      ]
    },
    {
      "cell_type": "code",
      "execution_count": null,
      "metadata": {
        "collapsed": false
      },
      "outputs": [],
      "source": [
        "config = tf.load_config(\"ITER\")  # create ITER configuration\nprint(config)"
      ]
    },
    {
      "cell_type": "markdown",
      "metadata": {},
      "source": [
        "To get a list of all available built-in configs, one has to know some details\nabout `tofu`. Configurations can be accessed by names (ITER, WEST, JET, etc).\n\n"
      ]
    },
    {
      "cell_type": "code",
      "execution_count": null,
      "metadata": {
        "collapsed": false
      },
      "outputs": [],
      "source": [
        "print(tf.geom.utils.get_available_config())"
      ]
    },
    {
      "cell_type": "markdown",
      "metadata": {},
      "source": [
        "With that being said, let's create a gallery of the \"top 3\" fusion machines\nprovided by `tofu` to accelerate diagnostic development.\n\n"
      ]
    },
    {
      "cell_type": "code",
      "execution_count": null,
      "metadata": {
        "collapsed": false
      },
      "outputs": [],
      "source": [
        "for fusion_machine in ['ITER', 'WEST', 'JET', 'NSTX', 'AUG', 'DEMO', 'TOMAS',\n                       'COMPASS', 'TCV']:\n    config = tf.load_config(fusion_machine)\n    config.plot()"
      ]
    }
  ],
  "metadata": {
    "kernelspec": {
      "display_name": "Python 3",
      "language": "python",
      "name": "python3"
    },
    "language_info": {
      "codemirror_mode": {
        "name": "ipython",
        "version": 3
      },
      "file_extension": ".py",
      "mimetype": "text/x-python",
      "name": "python",
      "nbconvert_exporter": "python",
      "pygments_lexer": "ipython3",
      "version": "3.7.11"
    }
  },
  "nbformat": 4,
  "nbformat_minor": 0
}