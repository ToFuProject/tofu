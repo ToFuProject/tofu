{
 "cells": [
  {
   "cell_type": "markdown",
   "metadata": {},
   "source": [
    "# Solid Angle subtended by a sphere Approximation\n",
    "\n",
    "We want to approximate the value of the solid angle subtended by a sphere as seen from any point in space outside of that sphere. This expression will be used in ToFu to compute the radiated power received by a particle of arbitrary radius (small vs plasma volume discretization) from the whole plasma. The expression will allow faster computation.\n",
    "\n"
   ]
  },
  {
   "cell_type": "markdown",
   "metadata": {},
   "source": [
    "## Notations\n",
    "\n",
    "![Solid angles notations](solid_angle_notations.png)\n",
    "\n",
    "Let’s consider the case of a spherical particle of radius $r$, observed from point $M$ located at a distance $d$ from the center $C$ of the particle, as illustrated in the figure above. By definition, the solid angle $\\Omega = \\dfrac{S}{d^2}$ , where $S$ is the surface on the sphere of center $M$ intersecting the particle center $C$ and limited by its radius, as represented in the figure below.\n",
    "\n",
    "\n",
    "![Schema angles solide sphere](SA_schema_cropped.png)\n"
   ]
  },
  {
   "cell_type": "markdown",
   "metadata": {},
   "source": [
    "## Solid Angle approximation\n",
    "In our case, we get\n",
    "\n",
    "$$\\Omega = 2\\pi \\left( 1 - \\sqrt{1-\\left(\\dfrac{r}{d}\\right)^2}\\right)$$\n",
    "\n",
    "However, the particle radius is almost always much smaller than the distance between the particle and the observation point $M$. Thus, often $$\\dfrac{r}{d} = X \\xrightarrow[]{} 0$$"
   ]
  },
  {
   "cell_type": "markdown",
   "metadata": {},
   "source": [
    "The taylor series of the function $\\Omega(X) = 2\\pi \\left( 1 - \\sqrt{1-X^2}\\right)$ at $X=0$ is given by \n",
    "\n",
    "$$\\Omega(X) = \\Omega(0) + X\\Omega'(0) + \\dfrac{X^2}{2}\\Omega''(0) + \\dfrac{X^3}{6}\\Omega^{(3)}(0)+ \\dfrac{X^4}{24}\\Omega^{(4)}(0) + O(x^4)$$"
   ]
  },
  {
   "cell_type": "markdown",
   "metadata": {},
   "source": [
    "where\n",
    "\n",
    "$$\n",
    "\\begin{align}\n",
    "\\Omega(X) &= 2\\pi \\left( 1 - \\sqrt{1-X^2}\\right)\\\\\n",
    "\\Omega'(X) &= 2\\pi X \\left( 1 - X^2\\right)^{-\\dfrac{1}{2}}\\\\\n",
    "\\Omega''(X) &= 2\\pi  \\left( 1 - X^2\\right)^{-\\dfrac{3}{2}}\\\\\n",
    "\\Omega^{(3)}(X) &= 6 \\pi X \\left( 1 - X^2\\right)^{-\\dfrac{5}{2}}\\\\\n",
    "\\Omega^{(4)}(X) &= 6 \\pi  \\left(4X^2 + 1 \\right)\\left( 1 - X^2\\right)^{-\\dfrac{7}{2}}\n",
    "\\end{align}\n",
    "$$\n"
   ]
  },
  {
   "cell_type": "markdown",
   "metadata": {},
   "source": [
    "Thus, we get\n",
    "\n",
    "$$ \\Omega(X) = \\pi x^2 + \\dfrac{x^4 \\pi}{4} + O(x^4) $$"
   ]
  },
  {
   "cell_type": "markdown",
   "metadata": {},
   "source": [
    "Replacing the variable back\n",
    "\n",
    "$$ \\Omega \\approx \\pi \\left(\\dfrac{r}{d}\\right)^2 + \\dfrac{\\pi}{4}\\left(\\dfrac{r}{d}\\right)^4$$\n",
    "\n",
    "And to the 9-th degree\n",
    "\n",
    "$$ \\Omega \\approx \\pi \\left(\\dfrac{r}{d}\\right)^2 + \\dfrac{\\pi}{4}\\left(\\dfrac{r}{d}\\right)^4 + \\dfrac{\\pi}{8}\\left(\\dfrac{r}{d}\\right)^6 + \\dfrac{5 \\pi}{64}\\left(\\dfrac{r}{d}\\right)^8$$"
   ]
  },
  {
   "cell_type": "markdown",
   "metadata": {},
   "source": [
    "## Computation"
   ]
  },
  {
   "cell_type": "code",
   "execution_count": 1,
   "metadata": {},
   "outputs": [],
   "source": [
    "%matplotlib widget\n",
    "import ipywidgets as widgets\n",
    "import matplotlib.pyplot as plt\n",
    "import numpy as np"
   ]
  },
  {
   "cell_type": "code",
   "execution_count": 2,
   "metadata": {
    "scrolled": false
   },
   "outputs": [
    {
     "data": {
      "application/vnd.jupyter.widget-view+json": {
       "model_id": "1f1f8c40dd7e4ce79bb552a8c38920cd",
       "version_major": 2,
       "version_minor": 0
      },
      "text/plain": [
       "Canvas(toolbar=Toolbar(toolitems=[('Home', 'Reset original view', 'home', 'home'), ('Back', 'Back to previous …"
      ]
     },
     "metadata": {},
     "output_type": "display_data"
    },
    {
     "data": {
      "text/plain": [
       "Text(0.5, 1.0, 'Error with respect to distance for different radius')"
      ]
     },
     "execution_count": 2,
     "metadata": {},
     "output_type": "execute_result"
    }
   ],
   "source": [
    "# set up plot\n",
    "fig, ax = plt.subplots(figsize=(6, 4))\n",
    "ax.grid(True)\n",
    " \n",
    "\n",
    "def exact(r, d):\n",
    "    \"\"\"\n",
    "    Return a sine for x with angular frequeny w and amplitude amp.\n",
    "    \"\"\"\n",
    "    return 2*np.pi*(1-np.sqrt(1-(r/d)**2))\n",
    " \n",
    "def approx(r,d):\n",
    "    \"\"\"\n",
    "    Return a sine for x with angular frequeny w and amplitude amp.\n",
    "    \"\"\"\n",
    "    x = r/d\n",
    "    return np.pi*(x**2 + x**4/4)\n",
    "\n",
    "# generate x values\n",
    "d = np.linspace(1, 10, 100)\n",
    "\n",
    "maxdiff = 0.\n",
    "for r in np.linspace(0.1,0.8,8):\n",
    "    diff = abs(exact(r, d) - approx(r,d))\n",
    "    if r < 0.5:\n",
    "        maxdiff = max(np.max(diff), maxdiff)\n",
    "    ax.plot(d, diff, label=str(r))\n",
    "\n",
    "ax.set_ylim([0, maxdiff])\n",
    "ax.legend()\n",
    "ax.set_title(\"Error with respect to distance for different radius\")\n"
   ]
  }
 ],
 "metadata": {
  "kernelspec": {
   "display_name": "Python 3",
   "language": "python",
   "name": "python3"
  },
  "language_info": {
   "codemirror_mode": {
    "name": "ipython",
    "version": 3
   },
   "file_extension": ".py",
   "mimetype": "text/x-python",
   "name": "python",
   "nbconvert_exporter": "python",
   "pygments_lexer": "ipython3",
   "version": "3.8.8"
  }
 },
 "nbformat": 4,
 "nbformat_minor": 2
}
